{
 "cells": [
  {
   "cell_type": "code",
   "id": "initial_id",
   "metadata": {
    "collapsed": true,
    "ExecuteTime": {
     "end_time": "2025-01-06T12:11:54.076954Z",
     "start_time": "2025-01-06T12:11:54.072758Z"
    }
   },
   "source": [
    "import torch\n",
    "import numpy as np\n",
    "import cv2\n",
    "from PIL import Image\n",
    "from markdown_it.rules_inline import image\n",
    "from seaborn import histplot\n",
    "from transformers import SamProcessor, SamModel\n",
    "from matplotlib import pyplot as plt\n",
    "import seaborn as sns\n",
    "\n",
    "from IPython.display import display \n",
    "from matplotlib import pyplot as plt\n",
    "from utils import pic2float, pic2int, pic2pil, sigmoid, swimg, display\n",
    "\n",
    "MODEL_NAME = \"facebook/sam-vit-base\"\n",
    "MODEL_NAME = \"facebook/sam-vit-large\"\n",
    "MODEL_NAME = \"facebook/sam-vit-huge\"\n",
    "DTYPE = torch.float16"
   ],
   "outputs": [],
   "execution_count": 51
  },
  {
   "metadata": {
    "ExecuteTime": {
     "end_time": "2025-01-06T00:48:34.033788Z",
     "start_time": "2025-01-06T00:48:34.024825Z"
    }
   },
   "cell_type": "code",
   "source": [
    "def advanced_mask(logits, threshold=0.5, sigma=5, alpha=10):\n",
    "    \"\"\"\n",
    "    Создает сложную маску с чёткими внутренними объектами и мягкими границами.\n",
    "    \n",
    "    :param logits: Логиты (numpy массив)\n",
    "    :param threshold: Порог для бинаризации\n",
    "    :param sigma: Параметр размытия для сглаживания границ\n",
    "    :param alpha: Коэффициент крутизны для сигмоиды\n",
    "    :return: Маска с плавными границами (numpy массив)\n",
    "    \"\"\"\n",
    "    # 1. Бинаризация логитов\n",
    "    sigmoid = 1 / (1 + np.exp(-logits))  # Преобразуем логиты в вероятности\n",
    "    binary_mask = (sigmoid >= threshold).astype(np.float32)  # Бинарная маска\n",
    "\n",
    "    # 2. Размытие бинарной маски для выделения границ\n",
    "    blurred_binary = cv2.GaussianBlur(binary_mask, (0, 0), sigma)    \n",
    "\n",
    "    # Нормализация размытой маски (для диапазона 0-1)\n",
    "    blurred_binary = 0.25 - (blurred_binary - 0.5) ** 2 \n",
    "    blurred_binary = cv2.GaussianBlur(blurred_binary, (0, 0), sigma)\n",
    "    \n",
    "    \n",
    "    blurred_binary = blurred_binary / np.max(blurred_binary)\n",
    "    blurred_binary = np.clip(blurred_binary, 0, 1)\n",
    "    # print(blurred_binary.max(), blurred_binary.min())\n",
    "    \n",
    "    \n",
    "    # return blurred_binary\n",
    "    # 3. Применение размытой маски к сигмоиде\n",
    "    alpha = 4\n",
    "    soft_mask = 1 / (1 + np.exp(-alpha * (sigmoid - threshold)))  # Сигмоидная маска\n",
    "    soft_mask = 1 * (sigmoid - 0.5) + 0.5 \n",
    "    \n",
    "    # binary_mask = cv2.GaussianBlur(binary_mask, (0, 0), 1)\n",
    "    \n",
    "    final_mask = soft_mask * blurred_binary + binary_mask * (1 - blurred_binary)\n",
    "    final_mask = np.clip(final_mask, 0, 1)\n",
    "\n",
    "    return final_mask\n",
    "\n",
    "def mask_crop(image, mask):\n",
    "    coords = np.where(mask)\n",
    "    y_min, y_max = coords[0].min(), coords[0].max()\n",
    "    x_min, x_max = coords[1].min(), coords[1].max()\n",
    "    return image[y_min:y_max, x_min:x_max], mask[y_min:y_max, x_min:x_max]\n",
    "\n",
    "def center(image, mask, shape = (512, 512), boudary = 0.2):\n",
    "    h, w = shape\n",
    "    bh = int(h * (1-boudary))\n",
    "    bw = int(w * (1-boudary))\n",
    "    obj_h, obj_w, _ = image.shape\n",
    "    scale = min(bh / obj_h, bw / obj_w)\n",
    "    new_h, new_w = int(obj_h * scale), int(obj_w * scale)\n",
    "    # display(pic2pil(image))\n",
    "    if scale < 1:\n",
    "        algo = cv2.INTER_AREA\n",
    "    else:\n",
    "        algo = cv2.INTER_AREA\n",
    "        algo = cv2.INTER_LINEAR \n",
    "        # algo = cv2.INTER_CUBIC\n",
    "        # algo = cv2.INTER_LANCZOS4\n",
    "    \n",
    "    image = cv2.resize(image, (new_w, new_h), interpolation=algo)\n",
    "    \n",
    "    mask = cv2.resize(mask, (new_w, new_h))\n",
    "    \n",
    "    top = (h - new_h) // 2\n",
    "    left = (w - new_w) // 2\n",
    "    \n",
    "    new_mask = np.zeros((h, w, 3), dtype=np.float32)\n",
    "    new_mask[top:top+new_h, left:left+new_w] = mask\n",
    "    # \n",
    "    new_image = np.zeros((h, w, 3), dtype=np.float32)\n",
    "    new_image[top:top+new_h, left:left+new_w] = image\n",
    "        \n",
    "    return new_image, new_mask\n",
    "    # return image, mask\n",
    "    "
   ],
   "id": "5cf74aa285cdf9ef",
   "outputs": [],
   "execution_count": 2
  },
  {
   "metadata": {
    "ExecuteTime": {
     "end_time": "2025-01-06T00:48:34.774855Z",
     "start_time": "2025-01-06T00:48:34.215651Z"
    }
   },
   "cell_type": "code",
   "source": "model = SamModel.from_pretrained(MODEL_NAME).to()",
   "id": "b44f648bab8f13bd",
   "outputs": [],
   "execution_count": 3
  },
  {
   "metadata": {
    "ExecuteTime": {
     "end_time": "2025-01-06T00:48:34.802490Z",
     "start_time": "2025-01-06T00:48:34.794644Z"
    }
   },
   "cell_type": "code",
   "source": [
    "class Predictor():\n",
    "    def __init__(self, model=None, processor=None, device=None, model_name=MODEL_NAME, type=DTYPE):\n",
    "        self.dtype = type\n",
    "\n",
    "        if device is None:\n",
    "            device = \"cuda\" if torch.cuda.is_available() else \"cpu\"\n",
    "        self.device = device\n",
    "\n",
    "        if model is None:\n",
    "            model = SamModel.from_pretrained(model_name).to(self.dtype).to(self.device)\n",
    "        if processor is None:\n",
    "            processor = SamProcessor.from_pretrained(MODEL_NAME)\n",
    "\n",
    "        self.model = model.to(self.device)\n",
    "        self.processor = processor\n",
    "\n",
    "    def predict(self, image, input_points=None):\n",
    "        image = pic2float(image)\n",
    "\n",
    "        if input_points is None:\n",
    "            input_points = [[[image.shape[1] // 2, image.shape[0] // 2]]]\n",
    "\n",
    "        inputs = self.processor(image, input_points=input_points, return_tensors=\"pt\", do_rescale=False).to(self.dtype).to(\"cuda\")\n",
    "\n",
    "        with torch.inference_mode():\n",
    "            outputs = self.model(**inputs)\n",
    "\n",
    "        scores = outputs.iou_scores[0][0].cpu().detach().numpy().astype('float')\n",
    "        masks = self.processor.image_processor.post_process_masks(\n",
    "            outputs.pred_masks.cpu(),\n",
    "            inputs[\"original_sizes\"].cpu(),\n",
    "            inputs[\"reshaped_input_sizes\"].cpu(),\n",
    "            binarize=False\n",
    "        )[0][0].cpu().numpy().astype('float')\n",
    "\n",
    "        return scores, masks\n",
    "\n",
    "    @staticmethod\n",
    "    def best_masks(scores, masks, n=4):\n",
    "\n",
    "        best_masks = []\n",
    "        best_masks_indexex = np.argsort(scores)[::-1][:n]\n",
    "\n",
    "        for idx in best_masks_indexex:\n",
    "            \n",
    "            mask, score = masks[idx], scores[idx]\n",
    "            mask = advanced_mask(mask)\n",
    "            mask = np.stack([mask, mask, mask], axis=-1)\n",
    "            best_masks.append(mask)\n",
    "        return best_masks\n"
   ],
   "id": "36fd7aff4dd70961",
   "outputs": [],
   "execution_count": 5
  },
  {
   "metadata": {
    "ExecuteTime": {
     "end_time": "2025-01-06T00:53:42.892430Z",
     "start_time": "2025-01-06T00:53:42.759166Z"
    }
   },
   "cell_type": "code",
   "source": [
    "#очистка видеопамяти\n",
    "torch.cuda.empty_cache()\n",
    "\n",
    "# сборщик мусора\n",
    "import gc\n",
    "gc.collect()"
   ],
   "id": "a4e9942b76e9e92c",
   "outputs": [
    {
     "data": {
      "text/plain": [
       "1060"
      ]
     },
     "execution_count": 14,
     "metadata": {},
     "output_type": "execute_result"
    }
   ],
   "execution_count": 14
  },
  {
   "metadata": {
    "ExecuteTime": {
     "end_time": "2025-01-06T00:48:37.118225Z",
     "start_time": "2025-01-06T00:48:34.810282Z"
    }
   },
   "cell_type": "code",
   "source": [
    "sam_predictor = Predictor()\n",
    "\n",
    "def sam_process(image, text=None):\n",
    "\n",
    "    scores, masks = sam_predictor.predict(image)\n",
    "    masks = sam_predictor.best_masks(scores, masks, 4)\n",
    "\n",
    "    composes = []\n",
    "    crop_masks = []\n",
    "\n",
    "    for mask in masks:\n",
    "        temp_image = image.copy()\n",
    "        temp_image, mask = mask_crop(temp_image, mask)\n",
    "        temp_image, mask = center(temp_image, mask)\n",
    "        bg = np.ones_like(temp_image)\n",
    "        compose = temp_image * mask + (1 - mask) * bg\n",
    "\n",
    "        composes.append(compose)\n",
    "        crop_masks.append(mask)\n",
    "        \n",
    "    return composes, crop_masks, text"
   ],
   "id": "6ac45ec492182cae",
   "outputs": [],
   "execution_count": 6
  },
  {
   "metadata": {},
   "cell_type": "code",
   "outputs": [],
   "execution_count": null,
   "source": "",
   "id": "b99c9630055810c6"
  }
 ],
 "metadata": {
  "kernelspec": {
   "display_name": "Python 3",
   "language": "python",
   "name": "python3"
  },
  "language_info": {
   "codemirror_mode": {
    "name": "ipython",
    "version": 2
   },
   "file_extension": ".py",
   "mimetype": "text/x-python",
   "name": "python",
   "nbconvert_exporter": "python",
   "pygments_lexer": "ipython2",
   "version": "2.7.6"
  }
 },
 "nbformat": 4,
 "nbformat_minor": 5
}
