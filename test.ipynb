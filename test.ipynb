{
 "cells": [
  {
   "cell_type": "code",
   "id": "initial_id",
   "metadata": {
    "collapsed": true,
    "ExecuteTime": {
     "end_time": "2025-01-04T13:29:28.492302Z",
     "start_time": "2025-01-04T13:29:28.473447Z"
    }
   },
   "source": [
    "import requests\n",
    "from PIL import Image\n",
    "from fastapi import FastAPI\n",
    "from fastapi.responses import HTMLResponse\n",
    "import gradio as gr\n",
    "\n",
    "SERVER_URL = \"http://127.0.0.1:5000/process\"\n",
    "\n"
   ],
   "outputs": [],
   "execution_count": 4
  },
  {
   "metadata": {
    "ExecuteTime": {
     "end_time": "2025-01-04T13:29:37.047489Z",
     "start_time": "2025-01-04T13:29:37.039085Z"
    }
   },
   "cell_type": "code",
   "source": [
    "import paramiko\n",
    "import socket\n",
    "import select\n",
    "\n",
    "def create_ssh_tunnel(server_ip, server_port, username, private_key_path, local_port, remote_port):\n",
    "    client = paramiko.SSHClient()\n",
    "    client.set_missing_host_key_policy(paramiko.AutoAddPolicy())\n",
    "    client.connect(server_ip, port=server_port, username=username, key_filename=private_key_path)\n",
    "\n",
    "    transport = client.get_transport()\n",
    "    local_sock = socket.socket(socket.AF_INET, socket.SOCK_STREAM)\n",
    "    local_sock.bind(('localhost', local_port))\n",
    "    local_sock.listen(1)\n",
    "\n",
    "    print(f\"Forwarding local port {local_port} to {remote_port} on {server_ip}...\")\n",
    "    while True:\n",
    "        conn, addr = local_sock.accept()\n",
    "        channel = transport.open_channel(\n",
    "            'direct-tcpip',\n",
    "            (server_ip, remote_port),\n",
    "            conn.getsockname()\n",
    "        )\n",
    "\n",
    "        while True:\n",
    "            r, w, x = select.select([conn, channel], [], [])\n",
    "            if conn in r:\n",
    "                data = conn.recv(1024)\n",
    "                if not data:\n",
    "                    break\n",
    "                channel.send(data)\n",
    "            if channel in r:\n",
    "                data = channel.recv(1024)\n",
    "                if not data:\n",
    "                    break\n",
    "                conn.send(data)\n",
    "        conn.close()\n",
    "        channel.close()\n",
    "\n"
   ],
   "id": "662f1aa7e2fd600",
   "outputs": [],
   "execution_count": 5
  },
  {
   "metadata": {
    "ExecuteTime": {
     "end_time": "2025-01-04T13:31:36.019296800Z",
     "start_time": "2025-01-04T13:29:38.069016Z"
    }
   },
   "cell_type": "code",
   "source": [
    "# Настройте параметры\n",
    "create_ssh_tunnel(\n",
    "    server_ip='89.169.132.198',\n",
    "    server_port=22,\n",
    "    username='yrsolo',\n",
    "    private_key_path='C:\\\\Users\\\\solofarm\\\\.ssh\\\\id_ed25519',\n",
    "    local_port=9001,\n",
    "    remote_port=9001\n",
    ")\n"
   ],
   "id": "98722c8f17385220",
   "outputs": [
    {
     "name": "stdout",
     "output_type": "stream",
     "text": [
      "Forwarding local port 9001 to 9001 on 89.169.132.198...\n"
     ]
    }
   ],
   "execution_count": null
  },
  {
   "metadata": {},
   "cell_type": "code",
   "outputs": [],
   "execution_count": null,
   "source": "yc certificate-manager certificate get-content  --id fpqca9ot3om9d5a68rj1 --output-certificate ~/tg-det/https-sert/certificate.pem  --output-private-key ~/tg-det/https-sert/private_key.pem",
   "id": "3bc1f44b36ddb195"
  },
  {
   "metadata": {},
   "cell_type": "code",
   "outputs": [],
   "execution_count": null,
   "source": "yc certificate-manager certificate get-content --id fpqca9ot3om9d5a68rj1  --chain  --output-cert ~/tg-det/https-sert/certificate.pem  --output-key ~/tg-det/https-sert/private_key.pem\n",
   "id": "4f506460dfcf4a92"
  },
  {
   "metadata": {},
   "cell_type": "code",
   "outputs": [],
   "execution_count": null,
   "source": "yc certificate-manager certificate content  --id fpqca9ot3om9d5a68rj1  --chain ~/tg-det/https-cert/certificate.pem --key ~/tg-det/https-cert/private_key.pem --key-format pkcs8",
   "id": "feb7b6b00a42075f"
  },
  {
   "metadata": {},
   "cell_type": "code",
   "outputs": [],
   "execution_count": null,
   "source": "openssl x509 -in ~/tg-det/https-cert/certificate.pem -text -noout",
   "id": "8e9c34661fc19467"
  },
  {
   "metadata": {},
   "cell_type": "code",
   "outputs": [],
   "execution_count": null,
   "source": "yc iam key create --service-account-id aje1kqd422vq2vefkbbl  --output ~/tg-det/https-cert/cert-updater-key.json",
   "id": "cf3b5e03e8ada2a7"
  }
 ],
 "metadata": {
  "kernelspec": {
   "display_name": "Python 3",
   "language": "python",
   "name": "python3"
  },
  "language_info": {
   "codemirror_mode": {
    "name": "ipython",
    "version": 2
   },
   "file_extension": ".py",
   "mimetype": "text/x-python",
   "name": "python",
   "nbconvert_exporter": "python",
   "pygments_lexer": "ipython2",
   "version": "2.7.6"
  }
 },
 "nbformat": 4,
 "nbformat_minor": 5
}
